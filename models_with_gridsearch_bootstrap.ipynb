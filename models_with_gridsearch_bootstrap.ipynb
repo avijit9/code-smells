{
 "cells": [
  {
   "cell_type": "code",
   "execution_count": 1,
   "metadata": {},
   "outputs": [],
   "source": [
    "import pandas as pd\n",
    "from sklearn.model_selection import train_test_split, cross_val_score\n",
    "from sklearn.naive_bayes import GaussianNB\n",
    "from sklearn.ensemble import RandomForestClassifier\n",
    "from sklearn.tree import DecisionTreeClassifier\n",
    "from sklearn.svm import SVC\n",
    "from sklearn.model_selection import GridSearchCV\n"
   ]
  },
  {
   "cell_type": "code",
   "execution_count": 2,
   "metadata": {},
   "outputs": [],
   "source": [
    "\n",
    "def main():\n",
    "    df = pd.read_csv('datasets.csv')\n",
    "    smells = ['OSE', 'BCE', 'PDE', 'SV', 'OS', 'SDS', 'RS', 'TFS']\n",
    "\n",
    "    m = Models()\n",
    "    for smell in smells:\n",
    "        print('### Predicting code smell \"{}\" ###'.format(smell))\n",
    "        m.predict(df, smell)\n",
    "\n",
    "class Models():\n",
    "\n",
    "    def predict(self, df, feature):\n",
    "        # train test split\n",
    "        X = df.iloc[:, 1:24]\n",
    "        y = df = df[[feature]]\n",
    "        X_train, X_test, y_train, y_test = train_test_split(\n",
    "            X, y, test_size=0.33, random_state=42)\n",
    "\n",
    "        # Naive Bayes\n",
    "#         print('-- Naive Bayes --')\n",
    "#         clf = GaussianNB()\n",
    "#         self.output_accuracy(X, y, X_train, y_train, X_test, y_test, clf)\n",
    "\n",
    "        # Random Forests\n",
    "#         print('-- Random Forests --')\n",
    "#         clf = RandomForestClassifier(\n",
    "#             n_estimators=100, max_depth=2, random_state=0)\n",
    "#         self.output_accuracy(X, y, X_train, y_train, X_test, y_test, clf)\n",
    "\n",
    "        # C4.5 (J48)\n",
    "#         print('-- C4.5 (implented as J48 in Weka) --')\n",
    "#         clf = DecisionTreeClassifier(random_state=0)\n",
    "#         self.output_accuracy(X, y, X_train, y_train, X_test, y_test, clf)\n",
    "\n",
    "        # Support Vector Machine using LIBSVM implementation with SMO\n",
    "        print('-- Support Vector Machine using LIBSVM implementation with SMO --')\n",
    "        svc = SVC(gamma='auto')\n",
    "        parameters = {'kernel':('linear', 'rbf'), 'C':[1, 10]}\n",
    "        clf = GridSearchCV(svc, parameters, cv = 5, n_jobs=4)\n",
    "        self.output_accuracy(X, y, X_train, y_train, X_test, y_test, clf)\n",
    "\n",
    "    def output_accuracy(self, X, y, X_train, y_train, X_test, y_test, clf):\n",
    "        # Does grid search over the parameter space\n",
    "        clf.fit(X_train, y_train.values.ravel())\n",
    "        \n",
    "        # print outs detailed report on Grid Param search\n",
    "        print(\"Best parameters set found on development set:\")\n",
    "        print()\n",
    "        print(clf.best_params_)\n",
    "        print(\"Grid scores on development set:\")\n",
    "        print()\n",
    "        means = clf.cv_results_['mean_test_score']\n",
    "        stds = clf.cv_results_['std_test_score']\n",
    "        for mean, std, params in zip(means, stds, clf.cv_results_['params']):\n",
    "            print(\"%0.3f (+/-%0.03f) for %r\"\n",
    "              % (mean, std * 2, params))\n",
    "        print()\n",
    "        \n",
    "        # Now test the best classifier on train and test set respectively        \n",
    "        train_acc = clf.score(X_train, y_train.values.ravel())\n",
    "        test_acc = clf.score(X_test, y_test.values.ravel())\n",
    "        print('Training accuray: {}'.format(train_acc))\n",
    "        print('Testing accuray: {}'.format(test_acc))"
   ]
  },
  {
   "cell_type": "code",
   "execution_count": 3,
   "metadata": {},
   "outputs": [
    {
     "name": "stdout",
     "output_type": "stream",
     "text": [
      "### Predicting code smell \"OSE\" ###\n",
      "-- Support Vector Machine using LIBSVM implementation with SMO --\n"
     ]
    },
    {
     "name": "stderr",
     "output_type": "stream",
     "text": [
      "/home/avijit.d/miniconda3/envs/action/lib/python3.5/site-packages/sklearn/model_selection/_search.py:841: DeprecationWarning: The default of the `iid` parameter will change from True to False in version 0.22 and will be removed in 0.24. This will change numeric results when test-set sizes are unequal.\n",
      "  DeprecationWarning)\n"
     ]
    },
    {
     "name": "stdout",
     "output_type": "stream",
     "text": [
      "Best parameters set found on development set:\n",
      "\n",
      "{'kernel': 'rbf', 'C': 1}\n",
      "Grid scores on development set:\n",
      "\n",
      "0.694 (+/-0.226) for {'kernel': 'linear', 'C': 1}\n",
      "0.776 (+/-0.055) for {'kernel': 'rbf', 'C': 1}\n",
      "0.694 (+/-0.226) for {'kernel': 'linear', 'C': 10}\n",
      "0.776 (+/-0.055) for {'kernel': 'rbf', 'C': 10}\n",
      "\n",
      "Training accuray: 1.0\n",
      "Testing accuray: 0.84\n",
      "### Predicting code smell \"BCE\" ###\n",
      "-- Support Vector Machine using LIBSVM implementation with SMO --\n"
     ]
    },
    {
     "name": "stderr",
     "output_type": "stream",
     "text": [
      "/home/avijit.d/miniconda3/envs/action/lib/python3.5/site-packages/sklearn/model_selection/_search.py:841: DeprecationWarning: The default of the `iid` parameter will change from True to False in version 0.22 and will be removed in 0.24. This will change numeric results when test-set sizes are unequal.\n",
      "  DeprecationWarning)\n"
     ]
    },
    {
     "name": "stdout",
     "output_type": "stream",
     "text": [
      "Best parameters set found on development set:\n",
      "\n",
      "{'kernel': 'linear', 'C': 1}\n",
      "Grid scores on development set:\n",
      "\n",
      "0.755 (+/-0.265) for {'kernel': 'linear', 'C': 1}\n",
      "0.551 (+/-0.010) for {'kernel': 'rbf', 'C': 1}\n",
      "0.755 (+/-0.265) for {'kernel': 'linear', 'C': 10}\n",
      "0.551 (+/-0.010) for {'kernel': 'rbf', 'C': 10}\n",
      "\n",
      "Training accuray: 0.9795918367346939\n",
      "Testing accuray: 0.64\n",
      "### Predicting code smell \"PDE\" ###\n",
      "-- Support Vector Machine using LIBSVM implementation with SMO --\n"
     ]
    },
    {
     "name": "stderr",
     "output_type": "stream",
     "text": [
      "/home/avijit.d/miniconda3/envs/action/lib/python3.5/site-packages/sklearn/model_selection/_search.py:841: DeprecationWarning: The default of the `iid` parameter will change from True to False in version 0.22 and will be removed in 0.24. This will change numeric results when test-set sizes are unequal.\n",
      "  DeprecationWarning)\n",
      "/home/avijit.d/miniconda3/envs/action/lib/python3.5/site-packages/sklearn/model_selection/_search.py:841: DeprecationWarning: The default of the `iid` parameter will change from True to False in version 0.22 and will be removed in 0.24. This will change numeric results when test-set sizes are unequal.\n",
      "  DeprecationWarning)\n",
      "/home/avijit.d/miniconda3/envs/action/lib/python3.5/site-packages/sklearn/model_selection/_search.py:841: DeprecationWarning: The default of the `iid` parameter will change from True to False in version 0.22 and will be removed in 0.24. This will change numeric results when test-set sizes are unequal.\n",
      "  DeprecationWarning)\n"
     ]
    },
    {
     "name": "stdout",
     "output_type": "stream",
     "text": [
      "Best parameters set found on development set:\n",
      "\n",
      "{'kernel': 'linear', 'C': 1}\n",
      "Grid scores on development set:\n",
      "\n",
      "0.878 (+/-0.235) for {'kernel': 'linear', 'C': 1}\n",
      "0.673 (+/-0.050) for {'kernel': 'rbf', 'C': 1}\n",
      "0.878 (+/-0.235) for {'kernel': 'linear', 'C': 10}\n",
      "0.673 (+/-0.050) for {'kernel': 'rbf', 'C': 10}\n",
      "\n",
      "Training accuray: 1.0\n",
      "Testing accuray: 0.84\n",
      "### Predicting code smell \"SV\" ###\n",
      "-- Support Vector Machine using LIBSVM implementation with SMO --\n",
      "Best parameters set found on development set:\n",
      "\n",
      "{'kernel': 'linear', 'C': 1}\n",
      "Grid scores on development set:\n",
      "\n",
      "0.878 (+/-0.149) for {'kernel': 'linear', 'C': 1}\n",
      "0.878 (+/-0.065) for {'kernel': 'rbf', 'C': 1}\n",
      "0.878 (+/-0.149) for {'kernel': 'linear', 'C': 10}\n",
      "0.878 (+/-0.065) for {'kernel': 'rbf', 'C': 10}\n",
      "\n",
      "Training accuray: 1.0\n",
      "Testing accuray: 0.96\n",
      "### Predicting code smell \"OS\" ###\n",
      "-- Support Vector Machine using LIBSVM implementation with SMO --\n",
      "Best parameters set found on development set:\n",
      "\n",
      "{'kernel': 'linear', 'C': 1}\n",
      "Grid scores on development set:\n",
      "\n",
      "0.918 (+/-0.222) for {'kernel': 'linear', 'C': 1}\n",
      "0.551 (+/-0.010) for {'kernel': 'rbf', 'C': 1}\n",
      "0.918 (+/-0.222) for {'kernel': 'linear', 'C': 10}\n",
      "0.551 (+/-0.010) for {'kernel': 'rbf', 'C': 10}\n",
      "\n",
      "Training accuray: 1.0\n",
      "Testing accuray: 0.72\n",
      "### Predicting code smell \"SDS\" ###\n",
      "-- Support Vector Machine using LIBSVM implementation with SMO --\n"
     ]
    },
    {
     "name": "stderr",
     "output_type": "stream",
     "text": [
      "/home/avijit.d/miniconda3/envs/action/lib/python3.5/site-packages/sklearn/model_selection/_search.py:841: DeprecationWarning: The default of the `iid` parameter will change from True to False in version 0.22 and will be removed in 0.24. This will change numeric results when test-set sizes are unequal.\n",
      "  DeprecationWarning)\n",
      "/home/avijit.d/miniconda3/envs/action/lib/python3.5/site-packages/sklearn/model_selection/_search.py:841: DeprecationWarning: The default of the `iid` parameter will change from True to False in version 0.22 and will be removed in 0.24. This will change numeric results when test-set sizes are unequal.\n",
      "  DeprecationWarning)\n"
     ]
    },
    {
     "name": "stdout",
     "output_type": "stream",
     "text": [
      "Best parameters set found on development set:\n",
      "\n",
      "{'kernel': 'rbf', 'C': 1}\n",
      "Grid scores on development set:\n",
      "\n",
      "0.571 (+/-0.331) for {'kernel': 'linear', 'C': 1}\n",
      "0.592 (+/-0.034) for {'kernel': 'rbf', 'C': 1}\n",
      "0.531 (+/-0.198) for {'kernel': 'linear', 'C': 10}\n",
      "0.592 (+/-0.034) for {'kernel': 'rbf', 'C': 10}\n",
      "\n",
      "Training accuray: 1.0\n",
      "Testing accuray: 0.6\n",
      "### Predicting code smell \"RS\" ###\n",
      "-- Support Vector Machine using LIBSVM implementation with SMO --\n",
      "Best parameters set found on development set:\n",
      "\n",
      "{'kernel': 'linear', 'C': 1}\n",
      "Grid scores on development set:\n",
      "\n",
      "0.857 (+/-0.195) for {'kernel': 'linear', 'C': 1}\n",
      "0.857 (+/-0.070) for {'kernel': 'rbf', 'C': 1}\n",
      "0.857 (+/-0.195) for {'kernel': 'linear', 'C': 10}\n",
      "0.857 (+/-0.070) for {'kernel': 'rbf', 'C': 10}\n",
      "\n",
      "Training accuray: 1.0\n",
      "Testing accuray: 0.8\n",
      "### Predicting code smell \"TFS\" ###\n",
      "-- Support Vector Machine using LIBSVM implementation with SMO --\n",
      "Best parameters set found on development set:\n",
      "\n",
      "{'kernel': 'rbf', 'C': 1}\n",
      "Grid scores on development set:\n",
      "\n",
      "0.531 (+/-0.152) for {'kernel': 'linear', 'C': 1}\n",
      "0.592 (+/-0.034) for {'kernel': 'rbf', 'C': 1}\n",
      "0.531 (+/-0.182) for {'kernel': 'linear', 'C': 10}\n",
      "0.592 (+/-0.034) for {'kernel': 'rbf', 'C': 10}\n",
      "\n",
      "Training accuray: 1.0\n",
      "Testing accuray: 0.6\n"
     ]
    },
    {
     "name": "stderr",
     "output_type": "stream",
     "text": [
      "/home/avijit.d/miniconda3/envs/action/lib/python3.5/site-packages/sklearn/model_selection/_search.py:841: DeprecationWarning: The default of the `iid` parameter will change from True to False in version 0.22 and will be removed in 0.24. This will change numeric results when test-set sizes are unequal.\n",
      "  DeprecationWarning)\n"
     ]
    }
   ],
   "source": [
    "if __name__ == '__main__':\n",
    "    main()"
   ]
  },
  {
   "cell_type": "code",
   "execution_count": null,
   "metadata": {},
   "outputs": [],
   "source": []
  }
 ],
 "metadata": {
  "file_extension": ".py",
  "kernelspec": {
   "display_name": "Python 3",
   "language": "python",
   "name": "python3"
  },
  "language_info": {
   "codemirror_mode": {
    "name": "ipython",
    "version": 3
   },
   "file_extension": ".py",
   "mimetype": "text/x-python",
   "name": "python",
   "nbconvert_exporter": "python",
   "pygments_lexer": "ipython3",
   "version": "3.5.6"
  },
  "mimetype": "text/x-python",
  "name": "python",
  "npconvert_exporter": "python",
  "pygments_lexer": "ipython3",
  "version": 3
 },
 "nbformat": 4,
 "nbformat_minor": 2
}
